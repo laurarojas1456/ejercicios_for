{
  "nbformat": 4,
  "nbformat_minor": 0,
  "metadata": {
    "colab": {
      "provenance": [],
      "authorship_tag": "ABX9TyNJtAHJIfsJHNY+dDgE0vO5",
      "include_colab_link": true
    },
    "kernelspec": {
      "name": "python3",
      "display_name": "Python 3"
    },
    "language_info": {
      "name": "python"
    }
  },
  "cells": [
    {
      "cell_type": "markdown",
      "metadata": {
        "id": "view-in-github",
        "colab_type": "text"
      },
      "source": [
        "<a href=\"https://colab.research.google.com/github/laurarojas1456/ejercicios_for/blob/main/ejercicios_for.ipynb\" target=\"_parent\"><img src=\"https://colab.research.google.com/assets/colab-badge.svg\" alt=\"Open In Colab\"/></a>"
      ]
    },
    {
      "cell_type": "markdown",
      "source": [
        "\n",
        "\n",
        "```\n",
        "# Tiene formato de código\n",
        "```\n",
        "INSTRUCCIÓN REPETITIVA FOR\n"
      ],
      "metadata": {
        "id": "PV1qTD97q7M2"
      }
    },
    {
      "cell_type": "code",
      "execution_count": null,
      "metadata": {
        "id": "LimWnC9UqVgS"
      },
      "outputs": [],
      "source": [
        "# EJERCICIO 1: mostrar los números del 1 al 10, sin usar instrucciones repetitivas\n",
        "\n",
        "print(1)\n",
        "print(2)\n",
        "print(3)\n",
        "print(4)\n",
        "print(5)\n",
        "print(6)\n",
        "print(7)\n",
        "print(8)\n",
        "print(9)\n",
        "print(10)\n"
      ]
    },
    {
      "cell_type": "code",
      "source": [
        "# EJERCICIO 2: mostrar los numeros del 1 al 10, usando la instruccion while\n",
        "\n",
        "contador = 1\n",
        "print(contador)\n",
        "while contador <10:\n",
        "  #contador = contador +1\n",
        "  contador += 1\n",
        "  print(contador)"
      ],
      "metadata": {
        "id": "Q43Tc9HCudYF"
      },
      "execution_count": null,
      "outputs": []
    },
    {
      "cell_type": "code",
      "source": [
        "# EJERCICIO 3: mostrar los numeros del 1 al 10, usando la instruccion for y una lista como iterable\n",
        "\n",
        "for i in [1,2,3,4,5,6,7,8,9,10]:\n",
        "  print(i)"
      ],
      "metadata": {
        "id": "d0iFezctvUd-"
      },
      "execution_count": null,
      "outputs": []
    },
    {
      "cell_type": "code",
      "source": [
        "# EJERCICIO 4: mostrar los numeros del 1 al 10, usando la instruccion for y la funcion range \n",
        "\n",
        "for i in range(1,11):\n",
        "  print(i)"
      ],
      "metadata": {
        "id": "scDNsd73wueu"
      },
      "execution_count": null,
      "outputs": []
    },
    {
      "cell_type": "code",
      "source": [
        "# EJERCICIO 5: mostrar una frase 10 veces, usando la instruccion for y una lista\n",
        "\n",
        "lista = [1,2,3,4,5,6,7,8,9,10]\n",
        "for i in lista:\n",
        "  print(f\"{i}Sistemas, la mejor!!!\")"
      ],
      "metadata": {
        "id": "V5CWWQ33xmqj"
      },
      "execution_count": null,
      "outputs": []
    },
    {
      "cell_type": "code",
      "source": [
        "# EJERCICIO 6: mostrar la silaba inicial de los dias de la semana, usando for y una lista con la silaba inicial de los\n",
        "\n",
        "dias_semana = [\"lu\", \"ma\", \"mi\", \"ju\", \"vi\", \"sa\", \"do\"]\n",
        "for i in dias_semana:\n",
        "  print(i)"
      ],
      "metadata": {
        "id": "Mk4izrFGyjGG"
      },
      "execution_count": null,
      "outputs": []
    },
    {
      "cell_type": "code",
      "source": [
        "# EJERCICIO 7: mostrar una lista de distintos tipos de datos, usando for\n",
        "\n",
        "lista = [1, 3.4, 9, True, \"Laura\", 8, \"Guanenta\"]\n",
        "for i in lista:\n",
        "  print(i)"
      ],
      "metadata": {
        "id": "DKNPMPvRzkSk"
      },
      "execution_count": null,
      "outputs": []
    },
    {
      "cell_type": "code",
      "source": [
        "# EJERCICIO 8: ingresar su nombre y mostrarlo letra a letra, usando for\n",
        "\n",
        "nombre = input(\"Digite su nombre: \")\n",
        "for letra in nombre:\n",
        "  print(letra)"
      ],
      "metadata": {
        "id": "wW4MLptWz_aU"
      },
      "execution_count": null,
      "outputs": []
    },
    {
      "cell_type": "code",
      "source": [
        "# EJERCICIO 9: ingresar su nombre y mostrarlo letra a letra, usando for, cambiando por asterisco a la vocal * a la vocal e\n",
        "\n",
        "nombre = input(\"Digite su nombre: \")\n",
        "for letra in nombre:\n",
        "  if letra == 'e':\n",
        "    print(\"*\")\n",
        "  else:\n",
        "    print(letra)"
      ],
      "metadata": {
        "id": "n_0sdXSg067k"
      },
      "execution_count": null,
      "outputs": []
    },
    {
      "cell_type": "code",
      "source": [
        "# EJERCICIO 10: ingresar su nombre y mostrarlo letra a letra, en mayuscula, usando for\n",
        "\n",
        "nombre = input(\"Digite su nombre: \")\n",
        "for letra in nombre:\n",
        "  print(letra.upper())"
      ],
      "metadata": {
        "id": "Sy1teb5-ABnH"
      },
      "execution_count": null,
      "outputs": []
    },
    {
      "cell_type": "code",
      "source": [
        "# EJERCICIO 11: imprimir listas de numeros usando for y range \n",
        "\n",
        "print(\"Numeros del 0 al 9\")\n",
        "for i in range(10):\n",
        "  print(i)\n",
        "\n",
        "print(\"Numeros del 1 al 10\")\n",
        "for i in range(1,11):\n",
        "  print(i)\n",
        "\n",
        "print(\"10 veces la frase\")\n",
        "for i in range(10):\n",
        "  print(\"Sistemas la mejor\")\n",
        "\n",
        "print(\"10 veces la frase i = \")\n",
        "for i in range(10):\n",
        "  print(\"i = \" + str(i))\n",
        "\n",
        "print(\"10 veces la frase i = \")\n",
        "for i in range(10):\n",
        "  print(f\" i = {i}\")\n",
        "\n",
        "print(\"Rango del 7 al 18, Incrementando de 4 en 4\")\n",
        "for i in range(7,19,4):\n",
        "  print(i)\n",
        "\n",
        "print(\"Convierte rango en lista a, y la muestra\")\n",
        "a = list(range(1000))\n",
        "print(a)  "
      ],
      "metadata": {
        "id": "i0XQt4JDBNG3"
      },
      "execution_count": 13,
      "outputs": []
    }
  ]
}